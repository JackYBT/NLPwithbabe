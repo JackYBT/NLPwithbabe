{
  "cells": [
    {
      "cell_type": "code",
      "execution_count": 19,
      "metadata": {
        "colab": {
          "base_uri": "https://localhost:8080/"
        },
        "id": "9c3zfQWCnD0W",
        "outputId": "717a61ac-27ac-4b17-dc3f-d8c3484360ea"
      },
      "outputs": [
        {
          "name": "stdout",
          "output_type": "stream",
          "text": [
            "\n",
            "\u001b[1m[\u001b[0m\u001b[34;49mnotice\u001b[0m\u001b[1;39;49m]\u001b[0m\u001b[39;49m A new release of pip is available: \u001b[0m\u001b[31;49m23.0\u001b[0m\u001b[39;49m -> \u001b[0m\u001b[32;49m23.0.1\u001b[0m\n",
            "\u001b[1m[\u001b[0m\u001b[34;49mnotice\u001b[0m\u001b[1;39;49m]\u001b[0m\u001b[39;49m To update, run: \u001b[0m\u001b[32;49mpip3 install --upgrade pip\u001b[0m\n"
          ]
        }
      ],
      "source": [
        "!pip3 install -q transformers"
      ]
    },
    {
      "cell_type": "code",
      "execution_count": 20,
      "metadata": {
        "id": "bBOal3VTnVBA"
      },
      "outputs": [],
      "source": [
        "import numpy as np\n",
        "import pandas as pd\n",
        "from sklearn import metrics\n",
        "import transformers\n",
        "import torch\n",
        "from torch.utils.data import Dataset, DataLoader, RandomSampler, SequentialSampler\n",
        "from transformers import BertTokenizer, BertModel, BertConfig, AutoTokenizer, AutoModelForMaskedLM, AutoModelForSequenceClassification, AutoConfig"
      ]
    },
    {
      "cell_type": "code",
      "execution_count": 21,
      "metadata": {
        "id": "tq-bczIenjAX"
      },
      "outputs": [],
      "source": [
        "from torch import cuda\n",
        "device = 'cuda' if cuda.is_available() else 'cpu'"
      ]
    },
    {
      "cell_type": "code",
      "execution_count": 22,
      "metadata": {
        "colab": {
          "base_uri": "https://localhost:8080/"
        },
        "id": "Bzt_OZZBo1vD",
        "outputId": "16033b8a-d787-49c8-e130-c7d3e9f50658"
      },
      "outputs": [
        {
          "ename": "ModuleNotFoundError",
          "evalue": "No module named 'google.colab'",
          "output_type": "error",
          "traceback": [
            "\u001b[0;31m---------------------------------------------------------------------------\u001b[0m",
            "\u001b[0;31mModuleNotFoundError\u001b[0m                       Traceback (most recent call last)",
            "Cell \u001b[0;32mIn[22], line 1\u001b[0m\n\u001b[0;32m----> 1\u001b[0m \u001b[39mfrom\u001b[39;00m \u001b[39mgoogle\u001b[39;00m\u001b[39m.\u001b[39;00m\u001b[39mcolab\u001b[39;00m \u001b[39mimport\u001b[39;00m drive\n\u001b[1;32m      2\u001b[0m drive\u001b[39m.\u001b[39mmount(\u001b[39m'\u001b[39m\u001b[39m/content/gdrive\u001b[39m\u001b[39m'\u001b[39m)\n",
            "\u001b[0;31mModuleNotFoundError\u001b[0m: No module named 'google.colab'"
          ]
        }
      ],
      "source": [
        "from google.colab import drive\n",
        "drive.mount('/content/gdrive')"
      ]
    },
    {
      "cell_type": "code",
      "execution_count": null,
      "metadata": {
        "colab": {
          "base_uri": "https://localhost:8080/"
        },
        "id": "1XeZzsQZpBic",
        "outputId": "8adcd2fe-cdac-49d4-85d0-ddca561fd874"
      },
      "outputs": [
        {
          "name": "stdout",
          "output_type": "stream",
          "text": [
            "[Errno 2] No such file or directory: '/content/gdrive/MyDrive/CS224NFinalProj/'\n",
            "/content\n"
          ]
        }
      ],
      "source": [
        "%cd /content/gdrive/MyDrive/CS224NFinalProj/"
      ]
    },
    {
      "cell_type": "code",
      "execution_count": 23,
      "metadata": {
        "colab": {
          "base_uri": "https://localhost:8080/",
          "height": 389
        },
        "id": "YE6v9S1rnmFw",
        "outputId": "7bcf9f1a-fda3-4143-e690-c854d84e9622"
      },
      "outputs": [
        {
          "data": {
            "text/html": [
              "<div>\n",
              "<style scoped>\n",
              "    .dataframe tbody tr th:only-of-type {\n",
              "        vertical-align: middle;\n",
              "    }\n",
              "\n",
              "    .dataframe tbody tr th {\n",
              "        vertical-align: top;\n",
              "    }\n",
              "\n",
              "    .dataframe thead th {\n",
              "        text-align: right;\n",
              "    }\n",
              "</style>\n",
              "<table border=\"1\" class=\"dataframe\">\n",
              "  <thead>\n",
              "    <tr style=\"text-align: right;\">\n",
              "      <th></th>\n",
              "      <th>id</th>\n",
              "      <th>doctor_faculty</th>\n",
              "      <th>description</th>\n",
              "    </tr>\n",
              "  </thead>\n",
              "  <tbody>\n",
              "    <tr>\n",
              "      <th>0</th>\n",
              "      <td>8</td>\n",
              "      <td>妇产科</td>\n",
              "      <td>疾病： 孕期不舒服病情描述： 近两天肚子有下坠感，不痛，心跳比较快，其他没有不舒服希望获得的...</td>\n",
              "    </tr>\n",
              "    <tr>\n",
              "      <th>1</th>\n",
              "      <td>9</td>\n",
              "      <td>皮肤科</td>\n",
              "      <td>疾病： 指甲上突起的横纹病情描述： 上周发现拇指指甲上突起一道横纹！不疼不痒，突起来的横纹！...</td>\n",
              "    </tr>\n",
              "    <tr>\n",
              "      <th>2</th>\n",
              "      <td>10</td>\n",
              "      <td>妇科</td>\n",
              "      <td>疾病： hpv疫苗病情描述： 我每两年做一次宫颈癌全套筛查都是阴性，无任何感染。tct阴，去...</td>\n",
              "    </tr>\n",
              "    <tr>\n",
              "      <th>3</th>\n",
              "      <td>11</td>\n",
              "      <td>眼科</td>\n",
              "      <td>疾病： 宝宝眼角红红的，严重时轻微溃烂。病情描述： 宝宝眼角红红的氧，用小手挠，严重时轻微溃...</td>\n",
              "    </tr>\n",
              "    <tr>\n",
              "      <th>4</th>\n",
              "      <td>13</td>\n",
              "      <td>皮肤科</td>\n",
              "      <td>疾病： 宝宝奶粉过敏、湿疹病情描述： 两个礼拜前喂了普通的飞鹤奶粉，是用勺子喂的，喝完一点点...</td>\n",
              "    </tr>\n",
              "  </tbody>\n",
              "</table>\n",
              "</div>"
            ],
            "text/plain": [
              "   id doctor_faculty                                        description\n",
              "0   8            妇产科  疾病： 孕期不舒服病情描述： 近两天肚子有下坠感，不痛，心跳比较快，其他没有不舒服希望获得的...\n",
              "1   9            皮肤科  疾病： 指甲上突起的横纹病情描述： 上周发现拇指指甲上突起一道横纹！不疼不痒，突起来的横纹！...\n",
              "2  10             妇科  疾病： hpv疫苗病情描述： 我每两年做一次宫颈癌全套筛查都是阴性，无任何感染。tct阴，去...\n",
              "3  11             眼科  疾病： 宝宝眼角红红的，严重时轻微溃烂。病情描述： 宝宝眼角红红的氧，用小手挠，严重时轻微溃...\n",
              "4  13            皮肤科  疾病： 宝宝奶粉过敏、湿疹病情描述： 两个礼拜前喂了普通的飞鹤奶粉，是用勺子喂的，喝完一点点..."
            ]
          },
          "execution_count": 23,
          "metadata": {},
          "output_type": "execute_result"
        }
      ],
      "source": [
        "df = pd.read_csv(\"patient_data.csv\")\n",
        "#df['list'] = df[df.columns[1:3]].values.tolist()\n",
        "new_df = df[['id', 'doctor_faculty', 'description']].copy()\n",
        "new_df.head()"
      ]
    },
    {
      "cell_type": "code",
      "execution_count": 24,
      "metadata": {
        "id": "OHPfBaL8qzDC"
      },
      "outputs": [],
      "source": [
        "#map each department to an index \n",
        "departments = new_df['doctor_faculty'].unique()\n",
        "d2ind = {departments[i]:i for i in range(len(departments))}\n",
        "ind2d = {i:departments[i] for i in range(len(departments))}"
      ]
    },
    {
      "cell_type": "code",
      "execution_count": 25,
      "metadata": {
        "id": "stFwNxq4rKR7"
      },
      "outputs": [],
      "source": [
        "ground_truths = []\n",
        "for i, row in new_df.iterrows():\n",
        "  dept_name = row['doctor_faculty']\n",
        "  dept_ind = d2ind[dept_name]\n",
        "  one_hot = np.zeros(len(departments))\n",
        "  one_hot[dept_ind] = 1\n",
        "  ground_truths.append(one_hot)\n",
        "new_df['one_hot'] = list(ground_truths)"
      ]
    },
    {
      "cell_type": "code",
      "execution_count": 26,
      "metadata": {
        "id": "ZZ5ifrrksoVm"
      },
      "outputs": [
        {
          "data": {
            "text/html": [
              "<div>\n",
              "<style scoped>\n",
              "    .dataframe tbody tr th:only-of-type {\n",
              "        vertical-align: middle;\n",
              "    }\n",
              "\n",
              "    .dataframe tbody tr th {\n",
              "        vertical-align: top;\n",
              "    }\n",
              "\n",
              "    .dataframe thead th {\n",
              "        text-align: right;\n",
              "    }\n",
              "</style>\n",
              "<table border=\"1\" class=\"dataframe\">\n",
              "  <thead>\n",
              "    <tr style=\"text-align: right;\">\n",
              "      <th></th>\n",
              "      <th>description</th>\n",
              "      <th>one_hot</th>\n",
              "    </tr>\n",
              "  </thead>\n",
              "  <tbody>\n",
              "    <tr>\n",
              "      <th>0</th>\n",
              "      <td>疾病： 孕期不舒服病情描述： 近两天肚子有下坠感，不痛，心跳比较快，其他没有不舒服希望获得的...</td>\n",
              "      <td>[1.0, 0.0, 0.0, 0.0, 0.0, 0.0, 0.0, 0.0, 0.0, ...</td>\n",
              "    </tr>\n",
              "    <tr>\n",
              "      <th>1</th>\n",
              "      <td>疾病： 指甲上突起的横纹病情描述： 上周发现拇指指甲上突起一道横纹！不疼不痒，突起来的横纹！...</td>\n",
              "      <td>[0.0, 1.0, 0.0, 0.0, 0.0, 0.0, 0.0, 0.0, 0.0, ...</td>\n",
              "    </tr>\n",
              "    <tr>\n",
              "      <th>2</th>\n",
              "      <td>疾病： hpv疫苗病情描述： 我每两年做一次宫颈癌全套筛查都是阴性，无任何感染。tct阴，去...</td>\n",
              "      <td>[0.0, 0.0, 1.0, 0.0, 0.0, 0.0, 0.0, 0.0, 0.0, ...</td>\n",
              "    </tr>\n",
              "    <tr>\n",
              "      <th>3</th>\n",
              "      <td>疾病： 宝宝眼角红红的，严重时轻微溃烂。病情描述： 宝宝眼角红红的氧，用小手挠，严重时轻微溃...</td>\n",
              "      <td>[0.0, 0.0, 0.0, 1.0, 0.0, 0.0, 0.0, 0.0, 0.0, ...</td>\n",
              "    </tr>\n",
              "    <tr>\n",
              "      <th>4</th>\n",
              "      <td>疾病： 宝宝奶粉过敏、湿疹病情描述： 两个礼拜前喂了普通的飞鹤奶粉，是用勺子喂的，喝完一点点...</td>\n",
              "      <td>[0.0, 1.0, 0.0, 0.0, 0.0, 0.0, 0.0, 0.0, 0.0, ...</td>\n",
              "    </tr>\n",
              "  </tbody>\n",
              "</table>\n",
              "</div>"
            ],
            "text/plain": [
              "                                         description  \\\n",
              "0  疾病： 孕期不舒服病情描述： 近两天肚子有下坠感，不痛，心跳比较快，其他没有不舒服希望获得的...   \n",
              "1  疾病： 指甲上突起的横纹病情描述： 上周发现拇指指甲上突起一道横纹！不疼不痒，突起来的横纹！...   \n",
              "2  疾病： hpv疫苗病情描述： 我每两年做一次宫颈癌全套筛查都是阴性，无任何感染。tct阴，去...   \n",
              "3  疾病： 宝宝眼角红红的，严重时轻微溃烂。病情描述： 宝宝眼角红红的氧，用小手挠，严重时轻微溃...   \n",
              "4  疾病： 宝宝奶粉过敏、湿疹病情描述： 两个礼拜前喂了普通的飞鹤奶粉，是用勺子喂的，喝完一点点...   \n",
              "\n",
              "                                             one_hot  \n",
              "0  [1.0, 0.0, 0.0, 0.0, 0.0, 0.0, 0.0, 0.0, 0.0, ...  \n",
              "1  [0.0, 1.0, 0.0, 0.0, 0.0, 0.0, 0.0, 0.0, 0.0, ...  \n",
              "2  [0.0, 0.0, 1.0, 0.0, 0.0, 0.0, 0.0, 0.0, 0.0, ...  \n",
              "3  [0.0, 0.0, 0.0, 1.0, 0.0, 0.0, 0.0, 0.0, 0.0, ...  \n",
              "4  [0.0, 1.0, 0.0, 0.0, 0.0, 0.0, 0.0, 0.0, 0.0, ...  "
            ]
          },
          "execution_count": 26,
          "metadata": {},
          "output_type": "execute_result"
        }
      ],
      "source": [
        "new_df.drop(['id', 'doctor_faculty'], axis='columns', inplace=True)\n",
        "new_df.head()"
      ]
    },
    {
      "cell_type": "code",
      "execution_count": 28,
      "metadata": {
        "id": "43F1PSern9_K"
      },
      "outputs": [
        {
          "name": "stdout",
          "output_type": "stream",
          "text": [
            "Unexpected exception formatting exception. Falling back to standard exception\n"
          ]
        },
        {
          "name": "stderr",
          "output_type": "stream",
          "text": [
            "Traceback (most recent call last):\n",
            "  File \"/Users/jackyuan/Library/Python/3.9/lib/python/site-packages/tqdm/_tqdm_notebook.py\", line 103, in status_printer\n",
            "NameError: name 'IntProgress' is not defined\n",
            "\n",
            "During handling of the above exception, another exception occurred:\n",
            "\n",
            "Traceback (most recent call last):\n",
            "  File \"/Users/jackyuan/Library/Python/3.9/lib/python/site-packages/IPython/core/interactiveshell.py\", line 3460, in run_code\n",
            "    exec(code_obj, self.user_global_ns, self.user_ns)\n",
            "  File \"/var/folders/z3/rlvk8dq50nqf7wvl5mz7sdtr0000gn/T/ipykernel_48728/895140328.py\", line 14, in <module>\n",
            "    tokenizer = AutoTokenizer.from_pretrained(\"uer/roberta-base-finetuned-chinanews-chinese\")\n",
            "  File \"/Users/jackyuan/Library/Python/3.9/lib/python/site-packages/transformers/models/auto/tokenization_auto.py\", line 598, in from_pretrained\n",
            "    tokenizer_config = get_tokenizer_config(pretrained_model_name_or_path, **kwargs)\n",
            "  File \"/Users/jackyuan/Library/Python/3.9/lib/python/site-packages/transformers/models/auto/tokenization_auto.py\", line 442, in get_tokenizer_config\n",
            "    resolved_config_file = cached_file(\n",
            "  File \"/Users/jackyuan/Library/Python/3.9/lib/python/site-packages/transformers/utils/hub.py\", line 409, in cached_file\n",
            "    resolved_file = hf_hub_download(\n",
            "  File \"/Users/jackyuan/Library/Python/3.9/lib/python/site-packages/huggingface_hub/utils/_validators.py\", line 124, in _inner_fn\n",
            "    return fn(*args, **kwargs)\n",
            "  File \"/Users/jackyuan/Library/Python/3.9/lib/python/site-packages/huggingface_hub/file_download.py\", line 1282, in hf_hub_download\n",
            "    http_get(\n",
            "  File \"/Users/jackyuan/Library/Python/3.9/lib/python/site-packages/huggingface_hub/file_download.py\", line 522, in http_get\n",
            "    progress = tqdm(\n",
            "  File \"/Users/jackyuan/Library/Python/3.9/lib/python/site-packages/huggingface_hub/utils/tqdm.py\", line 124, in __init__\n",
            "    super().__init__(*args, **kwargs)\n",
            "  File \"/Users/jackyuan/Library/Python/3.9/lib/python/site-packages/tqdm/_tqdm_notebook.py\", line 211, in __init__\n",
            "  File \"/Users/jackyuan/Library/Python/3.9/lib/python/site-packages/tqdm/_tqdm_notebook.py\", line 110, in status_printer\n",
            "ImportError: IntProgress not found. Please update jupyter and ipywidgets. See https://ipywidgets.readthedocs.io/en/stable/user_install.html\n",
            "\n",
            "During handling of the above exception, another exception occurred:\n",
            "\n",
            "Traceback (most recent call last):\n",
            "  File \"/Users/jackyuan/Library/Python/3.9/lib/python/site-packages/IPython/core/interactiveshell.py\", line 2057, in showtraceback\n",
            "    stb = self.InteractiveTB.structured_traceback(\n",
            "  File \"/Users/jackyuan/Library/Python/3.9/lib/python/site-packages/IPython/core/ultratb.py\", line 1118, in structured_traceback\n",
            "    return FormattedTB.structured_traceback(\n",
            "  File \"/Users/jackyuan/Library/Python/3.9/lib/python/site-packages/IPython/core/ultratb.py\", line 1012, in structured_traceback\n",
            "    return VerboseTB.structured_traceback(\n",
            "  File \"/Users/jackyuan/Library/Python/3.9/lib/python/site-packages/IPython/core/ultratb.py\", line 865, in structured_traceback\n",
            "    formatted_exception = self.format_exception_as_a_whole(etype, evalue, etb, number_of_lines_of_context,\n",
            "  File \"/Users/jackyuan/Library/Python/3.9/lib/python/site-packages/IPython/core/ultratb.py\", line 818, in format_exception_as_a_whole\n",
            "    frames.append(self.format_record(r))\n",
            "  File \"/Users/jackyuan/Library/Python/3.9/lib/python/site-packages/IPython/core/ultratb.py\", line 736, in format_record\n",
            "    result += ''.join(_format_traceback_lines(frame_info.lines, Colors, self.has_colors, lvals))\n",
            "  File \"/Users/jackyuan/Library/Python/3.9/lib/python/site-packages/stack_data/utils.py\", line 144, in cached_property_wrapper\n",
            "    value = obj.__dict__[self.func.__name__] = self.func(obj)\n",
            "  File \"/Users/jackyuan/Library/Python/3.9/lib/python/site-packages/stack_data/core.py\", line 734, in lines\n",
            "    pieces = self.included_pieces\n",
            "  File \"/Users/jackyuan/Library/Python/3.9/lib/python/site-packages/stack_data/utils.py\", line 144, in cached_property_wrapper\n",
            "    value = obj.__dict__[self.func.__name__] = self.func(obj)\n",
            "  File \"/Users/jackyuan/Library/Python/3.9/lib/python/site-packages/stack_data/core.py\", line 681, in included_pieces\n",
            "    pos = scope_pieces.index(self.executing_piece)\n",
            "  File \"/Users/jackyuan/Library/Python/3.9/lib/python/site-packages/stack_data/utils.py\", line 144, in cached_property_wrapper\n",
            "    value = obj.__dict__[self.func.__name__] = self.func(obj)\n",
            "  File \"/Users/jackyuan/Library/Python/3.9/lib/python/site-packages/stack_data/core.py\", line 660, in executing_piece\n",
            "    return only(\n",
            "  File \"/Users/jackyuan/Library/Python/3.9/lib/python/site-packages/executing/executing.py\", line 190, in only\n",
            "    raise NotOneValueFound('Expected one value, found 0')\n",
            "executing.executing.NotOneValueFound: Expected one value, found 0\n"
          ]
        }
      ],
      "source": [
        "## Sections of config\n",
        "\n",
        "# Defining some key variables that will be used later on in the training\n",
        "MAX_LEN = 200\n",
        "TRAIN_BATCH_SIZE = 8\n",
        "VALID_BATCH_SIZE = 4\n",
        "EPOCHS = 5\n",
        "LEARNING_RATE = 1e-05\n",
        "# load in pre-trained chinese bert\n",
        "# experiment with chinese-bert-wwm\n",
        "#tokenizer = BertTokenizer.from_pretrained('uer/chinese_roberta_L-8_H-512')\n",
        "#tokenizer = AutoTokenizer.from_pretrained('uer/roberta-base-finetuned-chinanews-chinese')\n",
        "#tokenizer = AutoTokenizer.from_pretrained(\"uer/roberta-base-finetuned-chinanews-chinese\")\n",
        "tokenizer = AutoTokenizer.from_pretrained(\"uer/roberta-base-finetuned-chinanews-chinese\")"
      ]
    },
    {
      "cell_type": "code",
      "execution_count": null,
      "metadata": {
        "id": "Ps0x5Rv7qjV6"
      },
      "outputs": [],
      "source": [
        "class CustomDataset(Dataset):\n",
        "\n",
        "    def __init__(self, dataframe, tokenizer, max_len):\n",
        "        self.tokenizer = tokenizer\n",
        "        self.data = dataframe\n",
        "        self.description = dataframe.description\n",
        "        self.targets = self.data.one_hot\n",
        "        self.max_len = max_len\n",
        "\n",
        "    def __len__(self):\n",
        "        return len(self.description)\n",
        "\n",
        "    def __getitem__(self, index):\n",
        "        description = str(self.description[index])\n",
        "        description = \" \".join(description.split())\n",
        "\n",
        "        inputs = self.tokenizer.encode_plus(\n",
        "            description,\n",
        "            None,\n",
        "            add_special_tokens=True,\n",
        "            max_length=self.max_len,\n",
        "            pad_to_max_length=True,\n",
        "            return_token_type_ids=True\n",
        "        )\n",
        "        ids = inputs['input_ids']\n",
        "        mask = inputs['attention_mask']\n",
        "        token_type_ids = inputs[\"token_type_ids\"]\n",
        "\n",
        "\n",
        "        return {\n",
        "            'ids': torch.tensor(ids, dtype=torch.long),\n",
        "            'mask': torch.tensor(mask, dtype=torch.long),\n",
        "            'token_type_ids': torch.tensor(token_type_ids, dtype=torch.long),\n",
        "            'targets': torch.tensor(self.targets[index], dtype=torch.float)\n",
        "        }"
      ]
    },
    {
      "cell_type": "code",
      "execution_count": null,
      "metadata": {
        "id": "u6RDpToitNxJ"
      },
      "outputs": [],
      "source": [
        "# Creating the dataset and dataloader for the neural network\n",
        "\n",
        "train_size = 0.8\n",
        "train_dataset=new_df.sample(frac=train_size,random_state=200)"
      ]
    },
    {
      "cell_type": "code",
      "execution_count": null,
      "metadata": {
        "id": "qyH2BR0MttSW"
      },
      "outputs": [
        {
          "name": "stdout",
          "output_type": "stream",
          "text": [
            "FULL Dataset: (25930, 2)\n",
            "TRAIN Dataset: (20744, 2)\n",
            "TEST Dataset: (5186, 2)\n"
          ]
        },
        {
          "ename": "NameError",
          "evalue": "name 'tokenizer' is not defined",
          "output_type": "error",
          "traceback": [
            "\u001b[0;31m---------------------------------------------------------------------------\u001b[0m",
            "\u001b[0;31mNameError\u001b[0m                                 Traceback (most recent call last)",
            "Cell \u001b[0;32mIn[14], line 9\u001b[0m\n\u001b[1;32m      6\u001b[0m \u001b[39mprint\u001b[39m(\u001b[39m\"\u001b[39m\u001b[39mTRAIN Dataset: \u001b[39m\u001b[39m{}\u001b[39;00m\u001b[39m\"\u001b[39m\u001b[39m.\u001b[39mformat(train_dataset\u001b[39m.\u001b[39mshape))\n\u001b[1;32m      7\u001b[0m \u001b[39mprint\u001b[39m(\u001b[39m\"\u001b[39m\u001b[39mTEST Dataset: \u001b[39m\u001b[39m{}\u001b[39;00m\u001b[39m\"\u001b[39m\u001b[39m.\u001b[39mformat(test_dataset\u001b[39m.\u001b[39mshape))\n\u001b[0;32m----> 9\u001b[0m training_set \u001b[39m=\u001b[39m CustomDataset(train_dataset, tokenizer, MAX_LEN)\n\u001b[1;32m     10\u001b[0m testing_set \u001b[39m=\u001b[39m CustomDataset(test_dataset, tokenizer, MAX_LEN)\n",
            "\u001b[0;31mNameError\u001b[0m: name 'tokenizer' is not defined"
          ]
        }
      ],
      "source": [
        "test_dataset=new_df.drop(train_dataset.index).reset_index(drop=True)\n",
        "train_dataset = train_dataset.reset_index(drop=True)\n",
        "\n",
        "\n",
        "print(\"FULL Dataset: {}\".format(new_df.shape))\n",
        "print(\"TRAIN Dataset: {}\".format(train_dataset.shape))\n",
        "print(\"TEST Dataset: {}\".format(test_dataset.shape))\n",
        "\n",
        "training_set = CustomDataset(train_dataset, tokenizer, MAX_LEN)\n",
        "testing_set = CustomDataset(test_dataset, tokenizer, MAX_LEN)"
      ]
    },
    {
      "cell_type": "code",
      "execution_count": null,
      "metadata": {
        "id": "PIG2mm-ru9Fu"
      },
      "outputs": [],
      "source": [
        "testing_set[1]"
      ]
    },
    {
      "cell_type": "code",
      "execution_count": null,
      "metadata": {
        "id": "da50wEWSuVkW"
      },
      "outputs": [],
      "source": [
        "train_params = {'batch_size': TRAIN_BATCH_SIZE,\n",
        "                'shuffle': True,\n",
        "                'num_workers': 0\n",
        "                }\n",
        "\n",
        "test_params = {'batch_size': VALID_BATCH_SIZE,\n",
        "                'shuffle': True,\n",
        "                'num_workers': 0\n",
        "                }\n",
        "\n",
        "training_loader = DataLoader(training_set, **train_params)\n",
        "testing_loader = DataLoader(testing_set, **test_params)"
      ]
    },
    {
      "cell_type": "markdown",
      "metadata": {
        "id": "py1eqCU6XuWD"
      },
      "source": [
        "##Training"
      ]
    },
    {
      "cell_type": "code",
      "execution_count": null,
      "metadata": {
        "id": "ub8AycYMvOxw"
      },
      "outputs": [],
      "source": [
        "def loss_fn(outputs, targets):\n",
        "    return torch.nn.BCEWithLogitsLoss()(outputs, targets)"
      ]
    },
    {
      "cell_type": "code",
      "execution_count": null,
      "metadata": {
        "id": "HDbvA8vRvfkS"
      },
      "outputs": [],
      "source": [
        "model = AutoModelForSequenceClassification.from_pretrained(\"uer/roberta-base-finetuned-chinanews-chinese\", num_labels=10, ignore_mismatched_sizes=True, id2label=ind2d)\n",
        "model.to(device)\n",
        "optimizer = torch.optim.Adam(params =  model.parameters(), lr=LEARNING_RATE)\n",
        "def train(epoch):\n",
        "    model.train()\n",
        "    for _,data in enumerate(training_loader, 0):\n",
        "        ids = data['ids'].to(device, dtype = torch.long)\n",
        "        mask = data['mask'].to(device, dtype = torch.long)\n",
        "        token_type_ids = data['token_type_ids'].to(device, dtype = torch.long)\n",
        "        targets = data['targets'].to(device, dtype = torch.float)\n",
        "\n",
        "        outputs = model(ids, mask, token_type_ids, labels=targets)\n",
        "        #sigmoids = torch.nn.functional.sigmoid(outputs.logits)\n",
        "        #sigmoids = torch.zeros_like(sigmoids).scatter_(1, torch.multinomial(sigmoids,1), 1.)\n",
        "\n",
        "        optimizer.zero_grad()\n",
        "        #loss = loss_fn(outputs.logits, targets)\n",
        "\n",
        "        loss, logits = outputs[:2]\n",
        "\n",
        "        if _%5000==0:\n",
        "            print(f'Epoch: {epoch}, Loss:  {loss.item()}')\n",
        "        \n",
        "        optimizer.zero_grad()\n",
        "        #loss.backward()\n",
        "        #optimizer.step()\n",
        " \n",
        "        loss.backward()\n",
        "        optimizer.step()"
      ]
    },
    {
      "cell_type": "code",
      "execution_count": null,
      "metadata": {
        "id": "KWpfYdFrvmDL"
      },
      "outputs": [],
      "source": [
        "for epoch in range(EPOCHS):\n",
        "    train(epoch)"
      ]
    },
    {
      "cell_type": "markdown",
      "metadata": {
        "id": "kCejIG9UXpGc"
      },
      "source": [
        "##Validation"
      ]
    },
    {
      "cell_type": "code",
      "execution_count": null,
      "metadata": {
        "id": "YzSzZeN6XxFH"
      },
      "outputs": [],
      "source": [
        "def validation(epoch):\n",
        "    model.eval()\n",
        "    fin_targets=[]\n",
        "    fin_outputs=[]\n",
        "    with torch.no_grad():\n",
        "        for _, data in enumerate(testing_loader, 0):\n",
        "            ids = data['ids'].to(device, dtype = torch.long)\n",
        "            mask = data['mask'].to(device, dtype = torch.long)\n",
        "            token_type_ids = data['token_type_ids'].to(device, dtype = torch.long)\n",
        "            targets = data['targets'].to(device, dtype = torch.float)\n",
        "            outputs = model(ids, mask, token_type_ids)\n",
        "            sigmoids = torch.sigmoid(outputs.logits).cpu().detach().numpy().tolist()\n",
        "            idx = np.argmax(sigmoids, axis=-1)\n",
        "            sigmoids = np.zeros( (len(sigmoids), len(sigmoids[1])) )\n",
        "            sigmoids[ np.arange(len(sigmoids)), idx] = 1\n",
        "            fin_targets.extend(targets.cpu().detach().numpy().tolist())\n",
        "            fin_outputs.extend(sigmoids)\n",
        "    return fin_outputs, fin_targets"
      ]
    },
    {
      "cell_type": "code",
      "execution_count": null,
      "metadata": {
        "id": "2F8RNDZDXzq6"
      },
      "outputs": [],
      "source": [
        "EPOCHS=1\n",
        "for epoch in range(EPOCHS):\n",
        "    outputs, targets = validation(epoch)\n",
        "    print('outputs', outputs)\n",
        "    print('targets', targets)\n",
        "    outputs = np.array(outputs) >= 0.5\n",
        "    accuracy = metrics.accuracy_score(targets, outputs)\n",
        "    f1_score_micro = metrics.f1_score(targets, outputs, average='micro')\n",
        "    f1_score_macro = metrics.f1_score(targets, outputs, average='macro')\n",
        "    print(f\"Accuracy Score = {accuracy}\")\n",
        "    print(f\"F1 Score (Micro) = {f1_score_micro}\")\n",
        "    print(f\"F1 Score (Macro) = {f1_score_macro}\")"
      ]
    },
    {
      "cell_type": "code",
      "execution_count": null,
      "metadata": {
        "id": "mi5Y52uS3njx"
      },
      "outputs": [],
      "source": [
        "torch.save(model.state_dict(), \"./roberta-base.bin\")"
      ]
    },
    {
      "cell_type": "code",
      "execution_count": null,
      "metadata": {
        "id": "XXMPvUtcRoTj"
      },
      "outputs": [],
      "source": [
        "model = AutoModelForSequenceClassification.from_pretrained(\"uer/roberta-base-finetuned-chinanews-chinese\", num_labels=10, ignore_mismatched_sizes=True)\n",
        "model.to(device)\n",
        "my_config = AutoConfig.from_pretrained(\"uer/roberta-base-finetuned-chinanews-chinese\", num_labels=10)\n",
        "print(my_config)\n",
        "for _,data in enumerate(training_loader, 0):\n",
        "        ids = data['ids'].to(device, dtype = torch.long)\n",
        "        mask = data['mask'].to(device, dtype = torch.long)\n",
        "        token_type_ids = data['token_type_ids'].to(device, dtype = torch.long)\n",
        "        targets = data['targets'].to(device, dtype = torch.float)\n",
        "\n",
        "        outputs = model(ids, mask, token_type_ids)\n",
        "        predictions = torch.nn.functional.softmax(outputs.logits, dim=-1)\n",
        "        print(predictions.shape) # 8,10\n"
      ]
    },
    {
      "cell_type": "code",
      "execution_count": null,
      "metadata": {
        "id": "tBX4reP9ubZ1"
      },
      "outputs": [],
      "source": [
        "# Creating the customized model, by adding a drop out and a dense layer on top of distil bert to get the final output for the model. \n",
        "\n",
        "class BERTClass(torch.nn.Module):\n",
        "    def __init__(self):\n",
        "        super(BERTClass, self).__init__()\n",
        "        #self.l1 = AutoModelForSequenceClassification.from_pretrained(\"uer/roberta-base-finetuned-chinanews-chinese\")\n",
        "        self.l1 = AutoModelForSequenceClassification.from_pretrained(\"uer/roberta-base-finetuned-chinanews-chinese\", num_labels=10, ignore_mismatched_sizes=True)\n",
        "\n",
        "        #self.l2 = torch.nn.Dropout(0.3)\n",
        "        #self.l3 = torch.nn.Linear(21128, 10)\n",
        "    \n",
        "    def forward(self, ids, mask, token_type_ids):\n",
        "        output_1= self.l1(ids, attention_mask = mask, token_type_ids = token_type_ids, return_dict=False)\n",
        "        \n",
        "        #print('output_1', output_1[0].shape)\n",
        "        #output_2 = self.l2(output_1[0])\n",
        "        #print('output_2', output_2[0].shape)\n",
        "        #output = self.l3(output_2)\n",
        "        return output_1.logits\n",
        "\n",
        "model = BERTClass()\n",
        "model.to(device)"
      ]
    },
    {
      "cell_type": "code",
      "execution_count": null,
      "metadata": {
        "id": "zSZVxWOPv1gp"
      },
      "outputs": [],
      "source": []
    }
  ],
  "metadata": {
    "accelerator": "GPU",
    "colab": {
      "provenance": []
    },
    "gpuClass": "premium",
    "kernelspec": {
      "display_name": "Python 3",
      "language": "python",
      "name": "python3"
    },
    "language_info": {
      "codemirror_mode": {
        "name": "ipython",
        "version": 3
      },
      "file_extension": ".py",
      "mimetype": "text/x-python",
      "name": "python",
      "nbconvert_exporter": "python",
      "pygments_lexer": "ipython3",
      "version": "3.9.7"
    },
    "vscode": {
      "interpreter": {
        "hash": "aee8b7b246df8f9039afb4144a1f6fd8d2ca17a180786b69acc140d282b71a49"
      }
    }
  },
  "nbformat": 4,
  "nbformat_minor": 0
}
